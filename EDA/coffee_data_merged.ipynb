{
 "cells": [
  {
   "cell_type": "code",
   "execution_count": 58,
   "id": "fffb614e",
   "metadata": {},
   "outputs": [],
   "source": [
    "import pandas as pd\n",
    "import matplotlib.pyplot as plt\n",
    "import hvplot.pandas\n",
    "\n",
    "# Turn off warning messages\n",
    "import warnings\n",
    "warnings.filterwarnings(\"ignore\")"
   ]
  },
  {
   "cell_type": "code",
   "execution_count": 59,
   "id": "acdaeb2d",
   "metadata": {
    "scrolled": false
   },
   "outputs": [
    {
     "data": {
      "text/html": [
       "<div>\n",
       "<style scoped>\n",
       "    .dataframe tbody tr th:only-of-type {\n",
       "        vertical-align: middle;\n",
       "    }\n",
       "\n",
       "    .dataframe tbody tr th {\n",
       "        vertical-align: top;\n",
       "    }\n",
       "\n",
       "    .dataframe thead th {\n",
       "        text-align: right;\n",
       "    }\n",
       "</style>\n",
       "<table border=\"1\" class=\"dataframe\">\n",
       "  <thead>\n",
       "    <tr style=\"text-align: right;\">\n",
       "      <th></th>\n",
       "      <th>Country</th>\n",
       "      <th>City</th>\n",
       "      <th>Latitude</th>\n",
       "      <th>Longitude</th>\n",
       "      <th>Coffee type</th>\n",
       "      <th>Years</th>\n",
       "      <th>Total Production</th>\n",
       "      <th>Global Price of Arabica Coffee (US cents per a lb)</th>\n",
       "      <th>Global Price of Robusta Coffee (US cents per a lb)</th>\n",
       "      <th>Oceanic Nino Index</th>\n",
       "      <th>El Nino or La Nina Year</th>\n",
       "      <th>Magnitude</th>\n",
       "    </tr>\n",
       "  </thead>\n",
       "  <tbody>\n",
       "    <tr>\n",
       "      <th>0</th>\n",
       "      <td>Angola</td>\n",
       "      <td>Bailundo</td>\n",
       "      <td>-12.1650</td>\n",
       "      <td>15.3694</td>\n",
       "      <td>Robusta/Arabica</td>\n",
       "      <td>1990</td>\n",
       "      <td>3.000000e+06</td>\n",
       "      <td>89.15</td>\n",
       "      <td>54.99</td>\n",
       "      <td>0.375</td>\n",
       "      <td>El Nino</td>\n",
       "      <td>Neutral</td>\n",
       "    </tr>\n",
       "    <tr>\n",
       "      <th>1</th>\n",
       "      <td>Bolivia</td>\n",
       "      <td>Coroico</td>\n",
       "      <td>-16.1889</td>\n",
       "      <td>-67.7273</td>\n",
       "      <td>Arabica</td>\n",
       "      <td>1990</td>\n",
       "      <td>7.380000e+06</td>\n",
       "      <td>89.15</td>\n",
       "      <td>54.99</td>\n",
       "      <td>0.375</td>\n",
       "      <td>El Nino</td>\n",
       "      <td>Neutral</td>\n",
       "    </tr>\n",
       "    <tr>\n",
       "      <th>2</th>\n",
       "      <td>Brazil</td>\n",
       "      <td>Poços de Caldas</td>\n",
       "      <td>-21.7800</td>\n",
       "      <td>-46.5692</td>\n",
       "      <td>Arabica/Robusta</td>\n",
       "      <td>1990</td>\n",
       "      <td>1.637160e+09</td>\n",
       "      <td>89.15</td>\n",
       "      <td>54.99</td>\n",
       "      <td>0.375</td>\n",
       "      <td>El Nino</td>\n",
       "      <td>Neutral</td>\n",
       "    </tr>\n",
       "    <tr>\n",
       "      <th>3</th>\n",
       "      <td>Burundi</td>\n",
       "      <td>Bukeye</td>\n",
       "      <td>-3.0830</td>\n",
       "      <td>29.3670</td>\n",
       "      <td>Arabica/Robusta</td>\n",
       "      <td>1990</td>\n",
       "      <td>2.922000e+07</td>\n",
       "      <td>89.15</td>\n",
       "      <td>54.99</td>\n",
       "      <td>0.375</td>\n",
       "      <td>El Nino</td>\n",
       "      <td>Neutral</td>\n",
       "    </tr>\n",
       "    <tr>\n",
       "      <th>4</th>\n",
       "      <td>Ecuador</td>\n",
       "      <td>Zamora</td>\n",
       "      <td>-4.0692</td>\n",
       "      <td>-78.9567</td>\n",
       "      <td>Arabica/Robusta</td>\n",
       "      <td>1990</td>\n",
       "      <td>9.024000e+07</td>\n",
       "      <td>89.15</td>\n",
       "      <td>54.99</td>\n",
       "      <td>0.375</td>\n",
       "      <td>El Nino</td>\n",
       "      <td>Neutral</td>\n",
       "    </tr>\n",
       "  </tbody>\n",
       "</table>\n",
       "</div>"
      ],
      "text/plain": [
       "   Country             City  Latitude  Longitude      Coffee type  Years  \\\n",
       "0   Angola         Bailundo  -12.1650    15.3694  Robusta/Arabica   1990   \n",
       "1  Bolivia          Coroico  -16.1889   -67.7273          Arabica   1990   \n",
       "2   Brazil  Poços de Caldas  -21.7800   -46.5692  Arabica/Robusta   1990   \n",
       "3  Burundi           Bukeye   -3.0830    29.3670  Arabica/Robusta   1990   \n",
       "4  Ecuador           Zamora   -4.0692   -78.9567  Arabica/Robusta   1990   \n",
       "\n",
       "   Total Production  Global Price of Arabica Coffee (US cents per a lb)  \\\n",
       "0      3.000000e+06                                              89.15    \n",
       "1      7.380000e+06                                              89.15    \n",
       "2      1.637160e+09                                              89.15    \n",
       "3      2.922000e+07                                              89.15    \n",
       "4      9.024000e+07                                              89.15    \n",
       "\n",
       "   Global Price of Robusta Coffee (US cents per a lb)  Oceanic Nino Index  \\\n",
       "0                                              54.99                0.375   \n",
       "1                                              54.99                0.375   \n",
       "2                                              54.99                0.375   \n",
       "3                                              54.99                0.375   \n",
       "4                                              54.99                0.375   \n",
       "\n",
       "  El Nino or La Nina Year Magnitude  \n",
       "0                 El Nino   Neutral  \n",
       "1                 El Nino   Neutral  \n",
       "2                 El Nino   Neutral  \n",
       "3                 El Nino   Neutral  \n",
       "4                 El Nino   Neutral  "
      ]
     },
     "execution_count": 59,
     "metadata": {},
     "output_type": "execute_result"
    }
   ],
   "source": [
    "coffee_production_df = pd.read_csv('../Data/Cleaned/coffee_production_df.csv')\n",
    "coffee_prices_df = pd.read_csv('../Data/Cleaned/coffee_prices.csv')\n",
    "elnino_lanina_df = pd.read_csv('../Data/Cleaned/elnino_lanina.csv')\n",
    "\n",
    "# first merge\n",
    "first_merge = pd.merge(coffee_production_df, coffee_prices_df, on='Years')\n",
    "\n",
    "# Delete extra index column\n",
    "del first_merge['Unnamed: 0']\n",
    "\n",
    "# Second merge\n",
    "coffee_data_df = pd.merge(first_merge, elnino_lanina_df, on='Years')\n",
    "\n",
    "# Display df\n",
    "coffee_data_df.head()"
   ]
  },
  {
   "cell_type": "markdown",
   "id": "bc0c392e",
   "metadata": {},
   "source": [
    "## Questions"
   ]
  },
  {
   "cell_type": "markdown",
   "id": "8f359f11",
   "metadata": {},
   "source": [
    "How has El Nino/La Nina patterns impacted coffee prices?\n"
   ]
  },
  {
   "cell_type": "code",
   "execution_count": 81,
   "id": "2c7697cb",
   "metadata": {},
   "outputs": [
    {
     "data": {
      "image/png": "[encoded data removed]",
      "text/plain": [
       "<Figure size 1000x600 with 1 Axes>"
      ]
     },
     "metadata": {},
     "output_type": "display_data"
    }
   ],
   "source": [
    "\n",
    "# Calculate the minimum and maximum years\n",
    "year_start = coffee_data_df['Years'].min()\n",
    "year_end = coffee_data_df['Years'].max()\n",
    "\n",
    "# Create a scatter plot for Arabica and Robusta prices\n",
    "ax = coffee_data_df.plot(kind='scatter', x='Years', y='Global Price of Arabica Coffee (US cents per a lb)', figsize=(10, 6), label='Arabica')\n",
    "coffee_data_df.plot(kind='scatter', x='Years', y='Global Price of Robusta Coffee (US cents per a lb)', ax=ax, color='orange', label='Robusta')\n",
    "\n",
    "\n",
    "# Setting x-axis limits to display years from the minimum to maximum 'Years' values\n",
    "ax.set_xlim(year_start, year_end)\n",
    "\n",
    "plt.title('Arabica vs Robusta Coffee Prices')\n",
    "plt.xlabel('Years')\n",
    "plt.ylabel('Price (US cents per a lb)')\n",
    "plt.grid(True)\n",
    "plt.legend()\n",
    "plt.tight_layout()\n",
    "plt.show()"
   ]
  },
  {
   "cell_type": "code",
   "execution_count": null,
   "id": "92cb234b",
   "metadata": {},
   "outputs": [],
   "source": []
  },
  {
   "cell_type": "code",
   "execution_count": 61,
   "id": "c54d73e1",
   "metadata": {},
   "outputs": [],
   "source": [
    "# Save .csv to 'Cleaned' folder\n",
    "coffee_data_df.to_csv('../Data/Cleaned/coffee_data_df.csv', index=False)\n"
   ]
  }
 ],
 "metadata": {
  "kernelspec": {
   "display_name": "Python 3 (ipykernel)",
   "language": "python",
   "name": "python3"
  },
  "language_info": {
   "codemirror_mode": {
    "name": "ipython",
    "version": 3
   },
   "file_extension": ".py",
   "mimetype": "text/x-python",
   "name": "python",
   "nbconvert_exporter": "python",
   "pygments_lexer": "ipython3",
   "version": "3.10.13"
  }
 },
 "nbformat": 4,
 "nbformat_minor": 5
}
