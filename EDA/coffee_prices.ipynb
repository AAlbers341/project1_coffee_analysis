{
 "cells": [
  {
   "cell_type": "code",
   "execution_count": 11,
   "id": "0c708ad6",
   "metadata": {},
   "outputs": [],
   "source": [
    "import pandas as pd\n",
    "import json\n",
    "import requests\n",
    "import matplotlib.pyplot as plt\n",
    "from scipy import stats\n",
    "# from config import api_key\n"
   ]
  },
  {
   "cell_type": "code",
   "execution_count": 12,
   "id": "4e14df6a",
   "metadata": {},
   "outputs": [
    {
     "name": "stdout",
     "output_type": "stream",
     "text": [
      "         DATE  PCOFFOTMUSDM\n",
      "0  1990-01-01     75.829987\n",
      "1  1990-02-01     84.010010\n",
      "2  1990-03-01     93.959991\n",
      "3  1990-04-01     93.730011\n",
      "4  1990-05-01     92.019989\n",
      "(407, 2)\n"
     ]
    }
   ],
   "source": [
    "coffee_price = pd.read_csv('../Data/Raw/global_price_of_coffee.csv')\n",
    "print(coffee_price.head())\n",
    "print(coffee_price.shape)"
   ]
  },
  {
   "cell_type": "code",
   "execution_count": null,
   "id": "be6ca5b6",
   "metadata": {},
   "outputs": [],
   "source": []
  },
  {
   "cell_type": "code",
   "execution_count": null,
   "id": "00932e8c",
   "metadata": {},
   "outputs": [],
   "source": []
  },
  {
   "cell_type": "code",
   "execution_count": null,
   "id": "852d3ea5",
   "metadata": {},
   "outputs": [],
   "source": []
  },
  {
   "cell_type": "code",
   "execution_count": null,
   "id": "57f0af73",
   "metadata": {},
   "outputs": [],
   "source": []
  },
  {
   "cell_type": "code",
   "execution_count": null,
   "id": "1082692c",
   "metadata": {},
   "outputs": [],
   "source": []
  },
  {
   "cell_type": "code",
   "execution_count": null,
   "id": "a4e6a384",
   "metadata": {},
   "outputs": [],
   "source": []
  }
 ],
 "metadata": {
  "kernelspec": {
   "display_name": "Python 3 (ipykernel)",
   "language": "python",
   "name": "python3"
  },
  "language_info": {
   "codemirror_mode": {
    "name": "ipython",
    "version": 3
   },
   "file_extension": ".py",
   "mimetype": "text/x-python",
   "name": "python",
   "nbconvert_exporter": "python",
   "pygments_lexer": "ipython3",
   "version": "3.10.13"
  }
 },
 "nbformat": 4,
 "nbformat_minor": 5
}
