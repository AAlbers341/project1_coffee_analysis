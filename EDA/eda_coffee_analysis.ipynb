{
 "cells": [
  {
   "cell_type": "code",
   "execution_count": 11,
   "id": "0c708ad6",
   "metadata": {},
   "outputs": [],
   "source": [
    "import pandas as pd\n",
    "import json\n",
    "import requests\n",
    "import matplotlib.pyplot as plt\n",
    "from scipy import stats\n",
    "# from config import api_key\n"
   ]
  },
  {
   "cell_type": "code",
   "execution_count": 12,
   "id": "4e14df6a",
   "metadata": {},
   "outputs": [
    {
     "name": "stdout",
     "output_type": "stream",
     "text": [
      "         DATE  PCOFFOTMUSDM\n",
      "0  1990-01-01     75.829987\n",
      "1  1990-02-01     84.010010\n",
      "2  1990-03-01     93.959991\n",
      "3  1990-04-01     93.730011\n",
      "4  1990-05-01     92.019989\n",
      "(407, 2)\n"
     ]
    }
   ],
   "source": [
    "coffee_price = pd.read_csv('../Data/Raw/global_price_of_coffee.csv')\n",
    "print(coffee_price.head())\n",
    "print(coffee_price.shape)"
   ]
  },
  {
   "cell_type": "code",
   "execution_count": 13,
   "id": "fbcc3a69",
   "metadata": {},
   "outputs": [
    {
     "name": "stdout",
     "output_type": "stream",
     "text": [
      "      market  %_of_global_production total_production_(2022/2023 60KG Bags)\n",
      "0     Brazil                      37                           62.6 Million\n",
      "1    Vietnam                      17                          29.75 Million\n",
      "2  Indonesia                       7                          11.85 Million\n",
      "3   Colombia                       7                           11.3 Million\n",
      "4   Ethiopia                       5                           8.27 Million\n",
      "5     Uganda                       4                           6.57 Million\n",
      "6      India                       4                           6.25 Million\n",
      "7   Honduras                       3                            5.4 Million\n",
      "8     Mexico                       2                           4.09 Million\n",
      "9       Peru                       2                           3.63 Million\n",
      "(10, 3)\n"
     ]
    }
   ],
   "source": [
    "top_producers = pd.read_csv('../Data/Raw/top_producing_coffee_countries.csv')\n",
    "print(top_producers)\n",
    "print(top_producers.shape)\n"
   ]
  },
  {
   "cell_type": "code",
   "execution_count": 14,
   "id": "9b47fd6a",
   "metadata": {},
   "outputs": [
    {
     "name": "stdout",
     "output_type": "stream",
     "text": [
      "                            Country      Coffee type       1990/91  \\\n",
      "0                            Angola  Robusta/Arabica  3.000000e+06   \n",
      "1  Bolivia (Plurinational State of)          Arabica  7.380000e+06   \n",
      "2                            Brazil  Arabica/Robusta  1.637160e+09   \n",
      "3                           Burundi  Arabica/Robusta  2.922000e+07   \n",
      "4                           Ecuador  Arabica/Robusta  9.024000e+07   \n",
      "\n",
      "        1991/92       1992/93       1993/94       1994/95       1995/96  \\\n",
      "0  4.740000e+06  4.680000e+06  1.980000e+06  4.620000e+06  3.720000e+06   \n",
      "1  6.240000e+06  7.200000e+06  3.060000e+06  7.020000e+06  8.520000e+06   \n",
      "2  1.637580e+09  2.076180e+09  1.690020e+09  1.691520e+09  1.083600e+09   \n",
      "3  4.002000e+07  3.720000e+07  2.358000e+07  3.984000e+07  2.604000e+07   \n",
      "4  1.274400e+08  7.110000e+07  1.241400e+08  1.425600e+08  1.132800e+08   \n",
      "\n",
      "        1996/97       1997/98  ...       2011/12       2012/13       2013/14  \\\n",
      "0  4.260000e+06  3.840000e+06  ...  1.740000e+06  1.980000e+06  2.100000e+06   \n",
      "1  7.500000e+06  8.460000e+06  ...  7.920000e+06  6.300000e+06  7.200000e+06   \n",
      "2  1.751820e+09  1.568880e+09  ...  2.915520e+09  3.325080e+09  3.281340e+09   \n",
      "3  2.406000e+07  1.500000e+07  ...  1.224000e+07  2.436000e+07  9.780000e+06   \n",
      "4  1.195800e+08  7.146000e+07  ...  4.950000e+07  4.968000e+07  3.996000e+07   \n",
      "\n",
      "        2014/15       2015/16       2016/17       2017/18       2018/19  \\\n",
      "0  2.340000e+06  2.460000e+06  2.700000e+06  2.100000e+06  2.520000e+06   \n",
      "1  6.000000e+06  5.040000e+06  4.680000e+06  5.040000e+06  4.980000e+06   \n",
      "2  3.198300e+09  3.172260e+09  3.407280e+09  3.164400e+09  3.907860e+09   \n",
      "3  1.488000e+07  1.614000e+07  1.176000e+07  1.212000e+07  1.224000e+07   \n",
      "4  3.864000e+07  3.864000e+07  3.870000e+07  3.744000e+07  2.976000e+07   \n",
      "\n",
      "        2019/20  Total_production  \n",
      "0  3.120000e+06      8.208000e+07  \n",
      "1  4.860000e+06      2.070000e+08  \n",
      "2  3.492660e+09      7.508298e+10  \n",
      "3  1.632000e+07      6.236400e+08  \n",
      "4  3.354000e+07      1.900380e+09  \n",
      "\n",
      "[5 rows x 33 columns]\n",
      "(55, 33)\n"
     ]
    }
   ],
   "source": [
    "coffee_production = pd.read_csv('../Data/Raw/coffee_production/Coffee_production.csv')\n",
    "print(coffee_production.head())\n",
    "print(coffee_production.shape)"
   ]
  },
  {
   "cell_type": "code",
   "execution_count": null,
   "id": "be6ca5b6",
   "metadata": {},
   "outputs": [],
   "source": []
  },
  {
   "cell_type": "code",
   "execution_count": null,
   "id": "00932e8c",
   "metadata": {},
   "outputs": [],
   "source": []
  },
  {
   "cell_type": "code",
   "execution_count": null,
   "id": "852d3ea5",
   "metadata": {},
   "outputs": [],
   "source": []
  },
  {
   "cell_type": "code",
   "execution_count": null,
   "id": "57f0af73",
   "metadata": {},
   "outputs": [],
   "source": []
  },
  {
   "cell_type": "code",
   "execution_count": null,
   "id": "1082692c",
   "metadata": {},
   "outputs": [],
   "source": []
  },
  {
   "cell_type": "code",
   "execution_count": null,
   "id": "a4e6a384",
   "metadata": {},
   "outputs": [],
   "source": []
  }
 ],
 "metadata": {
  "kernelspec": {
   "display_name": "Python 3 (ipykernel)",
   "language": "python",
   "name": "python3"
  },
  "language_info": {
   "codemirror_mode": {
    "name": "ipython",
    "version": 3
   },
   "file_extension": ".py",
   "mimetype": "text/x-python",
   "name": "python",
   "nbconvert_exporter": "python",
   "pygments_lexer": "ipython3",
   "version": "3.10.13"
  }
 },
 "nbformat": 4,
 "nbformat_minor": 5
}
