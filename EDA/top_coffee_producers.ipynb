{
 "cells": [
  {
   "cell_type": "code",
   "execution_count": 11,
   "id": "0c708ad6",
   "metadata": {},
   "outputs": [],
   "source": [
    "import pandas as pd\n",
    "import json\n",
    "import requests\n",
    "import matplotlib.pyplot as plt\n",
    "from scipy import stats\n",
    "# from config import api_key\n"
   ]
  },
  {
   "cell_type": "code",
   "execution_count": 13,
   "id": "fbcc3a69",
   "metadata": {},
   "outputs": [
    {
     "name": "stdout",
     "output_type": "stream",
     "text": [
      "      market  %_of_global_production total_production_(2022/2023 60KG Bags)\n",
      "0     Brazil                      37                           62.6 Million\n",
      "1    Vietnam                      17                          29.75 Million\n",
      "2  Indonesia                       7                          11.85 Million\n",
      "3   Colombia                       7                           11.3 Million\n",
      "4   Ethiopia                       5                           8.27 Million\n",
      "5     Uganda                       4                           6.57 Million\n",
      "6      India                       4                           6.25 Million\n",
      "7   Honduras                       3                            5.4 Million\n",
      "8     Mexico                       2                           4.09 Million\n",
      "9       Peru                       2                           3.63 Million\n",
      "(10, 3)\n"
     ]
    }
   ],
   "source": [
    "top_producers = pd.read_csv('../Data/Raw/top_producing_coffee_countries.csv')\n",
    "print(top_producers)\n",
    "print(top_producers.shape)\n"
   ]
  },
  {
   "cell_type": "code",
   "execution_count": null,
   "id": "be6ca5b6",
   "metadata": {},
   "outputs": [],
   "source": []
  },
  {
   "cell_type": "code",
   "execution_count": null,
   "id": "00932e8c",
   "metadata": {},
   "outputs": [],
   "source": []
  },
  {
   "cell_type": "code",
   "execution_count": null,
   "id": "1082692c",
   "metadata": {},
   "outputs": [],
   "source": []
  },
  {
   "cell_type": "code",
   "execution_count": null,
   "id": "a4e6a384",
   "metadata": {},
   "outputs": [],
   "source": []
  }
 ],
 "metadata": {
  "kernelspec": {
   "display_name": "Python 3 (ipykernel)",
   "language": "python",
   "name": "python3"
  },
  "language_info": {
   "codemirror_mode": {
    "name": "ipython",
    "version": 3
   },
   "file_extension": ".py",
   "mimetype": "text/x-python",
   "name": "python",
   "nbconvert_exporter": "python",
   "pygments_lexer": "ipython3",
   "version": "3.10.13"
  }
 },
 "nbformat": 4,
 "nbformat_minor": 5
}
